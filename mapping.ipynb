{
 "cells": [
  {
   "cell_type": "code",
   "execution_count": 95,
   "id": "c9c0d6e2",
   "metadata": {},
   "outputs": [],
   "source": [
    "import pandas as pd\n",
    "from bokeh.models import (CDSView, ColorBar, ColumnDataSource,\n",
    "                          CustomJS, CustomJSFilter, \n",
    "                          GeoJSONDataSource, HoverTool,\n",
    "                          LinearColorMapper, Slider, WheelZoomTool)\n",
    "from bokeh.models.widgets import Select\n",
    "from bokeh.layouts import column, row\n",
    "from bokeh.palettes import PuOr11\n",
    "from bokeh.plotting import figure, show, save, output_file\n",
    "import json\n",
    "import geopandas as gpd"
   ]
  },
  {
   "cell_type": "code",
   "execution_count": 96,
   "id": "27c71cb3",
   "metadata": {},
   "outputs": [],
   "source": [
    "shp = gpd.read_file('nycshapes.json')\n",
    "shp = shp.to_crs(\"EPSG:2263\")"
   ]
  },
  {
   "cell_type": "code",
   "execution_count": 97,
   "id": "bcbfe089",
   "metadata": {},
   "outputs": [],
   "source": [
    "data = pd.read_csv('allheadtoheads.csv')"
   ]
  },
  {
   "cell_type": "code",
   "execution_count": 98,
   "id": "5cbffd75",
   "metadata": {},
   "outputs": [],
   "source": [
    "shp = shp.merge(data, left_on='elect_dist', right_on='Precinct')\n",
    "geosource = GeoJSONDataSource(geojson = shp.to_json())"
   ]
  },
  {
   "cell_type": "code",
   "execution_count": 99,
   "id": "912c6d58",
   "metadata": {},
   "outputs": [],
   "source": [
    "candidateToNum = {\"Adrienne E. Adams\": 1,\n",
    "                 \"Andrew M. Cuomo\": 2,\n",
    "                 \"Brad Lander\": 3,\n",
    "                 \"Jessica Ramos\": 4,\n",
    "                 \"Michael Blake\": 5,\n",
    "                 \"Paperboy Love Prince\": 6,\n",
    "                 \"Scott M. Stringer\": 7,\n",
    "                 \"Selma K. Bartholomew\": 8,\n",
    "                 \"Whitney R. Tilson\": 9,\n",
    "                 \"Zellnor Myrie\": 10,\n",
    "                 \"Zohran Kwame Mamdani\": 11}\n",
    "candidateTuples = []\n",
    "for i in candidateToNum:\n",
    "    candidateTuples.append((candidateToNum[i], i))"
   ]
  },
  {
   "cell_type": "code",
   "execution_count": 100,
   "id": "771f9d84",
   "metadata": {},
   "outputs": [
    {
     "data": {
      "text/plain": [
       "[(1, 'Adrienne E. Adams'),\n",
       " (2, 'Andrew M. Cuomo'),\n",
       " (3, 'Brad Lander'),\n",
       " (4, 'Jessica Ramos'),\n",
       " (5, 'Michael Blake'),\n",
       " (6, 'Paperboy Love Prince'),\n",
       " (7, 'Scott M. Stringer'),\n",
       " (8, 'Selma K. Bartholomew'),\n",
       " (9, 'Whitney R. Tilson'),\n",
       " (10, 'Zellnor Myrie'),\n",
       " (11, 'Zohran Kwame Mamdani')]"
      ]
     },
     "execution_count": 100,
     "metadata": {},
     "output_type": "execute_result"
    }
   ],
   "source": [
    "candidateTuples"
   ]
  },
  {
   "cell_type": "code",
   "execution_count": 101,
   "id": "24418752",
   "metadata": {},
   "outputs": [],
   "source": [
    "p = figure(title = \"Results\",\n",
    "           sizing_mode = \"stretch_both\",\n",
    "           toolbar_location = 'below',\n",
    "           tools = 'pan, wheel_zoom, reset')\n",
    "p.xaxis.major_tick_line_color = None\n",
    "p.xaxis.minor_tick_line_color = None\n",
    "p.yaxis.major_tick_line_color = None\n",
    "p.yaxis.minor_tick_line_color = None\n",
    "p.xaxis.major_label_text_font_size = \"0pt\"\n",
    "p.yaxis.major_label_text_font_size = \"0pt\"\n",
    "p.xgrid.grid_line_color = None\n",
    "p.toolbar.active_drag = None\n",
    "p.ygrid.grid_line_color = None\n",
    "dropdownCand1 = Select(title = \"Candidate 1\", value = 11, options = candidateTuples)\n",
    "dropdownCand2 = Select(title = \"Candidate 2\", value = 2, options = candidateTuples)\n",
    "colorMapper = LinearColorMapper(palette = PuOr11, low = -1, high = 1)\n",
    "\n",
    "precincts = p.patches('xs','ys', source = geosource,\n",
    "                   fill_color = {'field': f\"11-2\", 'transform': colorMapper},\n",
    "                   line_color = 'white', \n",
    "                   line_width = 0.05, \n",
    "                   fill_alpha = 1)\n",
    "hover = HoverTool(\n",
    "    tooltips=[\n",
    "        ('Precinct', f'@{{{f\"elect_dist\"}}}'),\n",
    "        ('Votes for Candidate 1', f'@{{{f\"11 over 2\"}}}{{0,0}}'),\n",
    "        ('Votes for Candidate 2', f'@{{{f\"2 over 11\"}}}{{0,0}}')]\n",
    ")\n",
    "p.add_tools(hover)\n",
    "callback = CustomJS(args=dict(\n",
    "    source = geosource,\n",
    "    dropdownCand1 = dropdownCand1,\n",
    "    dropdownCand2 = dropdownCand2,\n",
    "    precincts = precincts,\n",
    "    plot = p,\n",
    "    candidateToNum = candidateToNum,\n",
    "    colorMapper = colorMapper,\n",
    "    hover = hover\n",
    "), code = \"\"\"\n",
    "    const cand1 = dropdownCand1.value;\n",
    "    const cand2 = dropdownCand2.value;\n",
    "    const votes1Column = `${cand1} over ${cand2}`;\n",
    "    const votes2Column = `${cand2} over ${cand1}`;\n",
    "    var columnName = `${cand1}-${cand2}`;\n",
    "    const colorData = source.data[columnName];\n",
    "    precincts.glyph.fill_color = {field: columnName, transform: colorMapper};\n",
    "    hover.tooltips = [\n",
    "        ['Precinct', '@{' + `elect_dist` + '}']\n",
    "        ['Votes for Candidate 1', '@{' + votes1Column + '}'],\n",
    "        ['Votes for Candidate 2', '@{' + votes2Column + '}']\n",
    "    ];\n",
    "\"\"\")\n",
    "\n",
    "dropdownCand1.js_on_change('value', callback)\n",
    "dropdownCand2.js_on_change('value', callback)\n",
    "\n",
    "controls = row(dropdownCand1, dropdownCand2)\n",
    "layout = column(controls, p, sizing_mode=\"stretch_both\", aspect_ratio=1.25)\n",
    "show(layout)"
   ]
  },
  {
   "cell_type": "code",
   "execution_count": 102,
   "id": "727bdc90",
   "metadata": {},
   "outputs": [
    {
     "data": {
      "text/plain": [
       "'c:\\\\Users\\\\austi\\\\Downloads\\\\2025_Primary_CVR_2025-07-17\\\\index.html'"
      ]
     },
     "execution_count": 102,
     "metadata": {},
     "output_type": "execute_result"
    }
   ],
   "source": [
    "output_file(\"index.html\", mode='cdn')\n",
    "save(layout)"
   ]
  }
 ],
 "metadata": {
  "kernelspec": {
   "display_name": "research",
   "language": "python",
   "name": "python3"
  },
  "language_info": {
   "codemirror_mode": {
    "name": "ipython",
    "version": 3
   },
   "file_extension": ".py",
   "mimetype": "text/x-python",
   "name": "python",
   "nbconvert_exporter": "python",
   "pygments_lexer": "ipython3",
   "version": "3.10.16"
  }
 },
 "nbformat": 4,
 "nbformat_minor": 5
}
